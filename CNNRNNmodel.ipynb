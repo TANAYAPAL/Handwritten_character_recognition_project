{
 "cells": [
  {
   "cell_type": "code",
   "execution_count": 3,
   "id": "53cfa59f",
   "metadata": {},
   "outputs": [
    {
     "name": "stdout",
     "output_type": "stream",
     "text": [
      "1/1 [==============================] - 1s 551ms/step\n"
     ]
    }
   ],
   "source": [
    "import cv2\n",
    "import tensorflow as tf\n",
    "import matplotlib.pyplot as plt\n",
    "import numpy as np\n",
    " \n",
    "from keras.models import load_model\n",
    "model = load_model('model_hand.h5')\n",
    " \n",
    "words = {0:'A',1:'B',2:'C',3:'D',4:'E',5:'F',6:'G',7:'H',8:'I',9:'J',10:'K',11:'L',12:'M',13:'N',14:'O',15:'P',16:'Q',17:'R',18:'S',19:'T',20:'U',21:'V',22:'W',23:'X', 24:'Y',25:'Z'}\n",
    " \n",
    "image = cv2.imread('Bcur.jpg')\n",
    "image_copy = image.copy()\n",
    "image = cv2.cvtColor(image, cv2.COLOR_BGR2RGB)\n",
    "image = cv2.resize(image, (400,440))\n",
    " \n",
    "image_copy = cv2.GaussianBlur(image_copy, (7,7), 0)\n",
    "gray_image = cv2.cvtColor(image_copy, cv2.COLOR_BGR2GRAY)\n",
    "_, img_thresh = cv2.threshold(gray_image, 100, 255, cv2.THRESH_BINARY_INV)\n",
    " \n",
    "final_image = cv2.resize(img_thresh, (28,28))\n",
    "final_image =np.reshape(final_image, (1,28,28,1))\n",
    " \n",
    "prediction = words[np.argmax(model.predict(final_image))]\n",
    " \n",
    "cv2.putText(image, \"Prediction: \" + prediction, (20,40), cv2.FONT_HERSHEY_DUPLEX, 1.3, color = (0,0,230))\n",
    "cv2.imshow('Project handwritten character recognition ',image)\n",
    " \n",
    "cv2.waitKey(0)\n",
    "\n",
    "cv2.destroyAllWindows()"
   ]
  },
  {
   "cell_type": "code",
   "execution_count": null,
   "id": "71ece6d7",
   "metadata": {},
   "outputs": [],
   "source": []
  },
  {
   "cell_type": "code",
   "execution_count": null,
   "id": "91e26484",
   "metadata": {},
   "outputs": [],
   "source": []
  }
 ],
 "metadata": {
  "kernelspec": {
   "display_name": "Python 3 (ipykernel)",
   "language": "python",
   "name": "python3"
  },
  "language_info": {
   "codemirror_mode": {
    "name": "ipython",
    "version": 3
   },
   "file_extension": ".py",
   "mimetype": "text/x-python",
   "name": "python",
   "nbconvert_exporter": "python",
   "pygments_lexer": "ipython3",
   "version": "3.9.17"
  }
 },
 "nbformat": 4,
 "nbformat_minor": 5
}
